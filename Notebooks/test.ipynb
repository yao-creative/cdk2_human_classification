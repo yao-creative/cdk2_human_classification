{
 "cells": [
  {
   "cell_type": "code",
   "execution_count": 1,
   "metadata": {},
   "outputs": [
    {
     "name": "stdout",
     "output_type": "stream",
     "text": [
      "['chains_list.txt', 'annotate_chains.py', 'imputed_seg_coord.txt', 'pdbs.var', 'vector.txt', 'common_indices.var', 'matrix_AB.txt', 'pml_script_all.py', '.DS_Store', 'reduced_chains_list.var', 'pdb_get.py', 'LICENSE', 'structures', 'requirements.txt', 'list.txt', 'parse_dat.py', 'PDB_files', 'matrix.txt', 'pdb_codes.py', 'matrix_AB.var', 'clear_structures.py', 'common_indices.txt', 'pdbs.txt', 'vector.var', 'human_cdk2_uniprot.txt', 'distmat.dat', 'imputed_seg_coord.var', 'alignment_dict.var', 'diagrams', 'removed_indices.var', 'chains_list.var', 'look_through.py', 'trash_bin', 'matrix.var', 'seg_list.var', 'reference_papers', 'rmsd_cluster2.ipynb', '__pycache__', 'annotate.py', 'run.sh', 'tree.dat', 'readme.md', 'coords_res.txt', 'removed_chains.var', '.gitignore', 'matrix_seg.txt', 'coords_res.var copy', 'dihedral_clustering.ipynb', 'helper.py', 'coordinate_cluster.ipynb', 'rmsd_cluster_reduced.ipynb', 'annotated_chains.var', 'annotated.var', 'conformation_by_index_link_vectors.var', 'matrix_seg_coords.var', 'num_missing_list_seg.var', '.ipynb_checkpoints', 'removed_chains.txt', 'reset.sh', 'chains_list2.var', 'imputed_seg_coord.var copy', '.git', 'rmsd_cluster2.ipynb copy', 'coords_res.var', 'matrix_seg_coords.txt', 'test.ipynb', 'annotated.txt', 'annotated_chains.txt', 'pml_script_coord.py', 'find_hv_regions.ipynb', 'dihedral_mat.var', 'all_aligned.pse', 'matrix_seg.var', 'coordinate_cluster.ipynb copy']\n"
     ]
    }
   ],
   "source": [
    "import numpy as np\n",
    "from sklearn.experimental import enable_iterative_imputer\n",
    "from sklearn.impute import IterativeImputer\n",
    "from sklearn.manifold import TSNE\n",
    "import pickle\n",
    "import os\n",
    "from pandas import DataFrame as df\n",
    "os.chdir(\"/Users/yao/Desktop/dkp/Work/internship1_bioinfo\")\n",
    "print(os.listdir(\".\"))\n",
    "from helper import threshold_remove, coordinate_impute,multirun"
   ]
  },
  {
   "cell_type": "code",
   "execution_count": 3,
   "metadata": {},
   "outputs": [
    {
     "name": "stdout",
     "output_type": "stream",
     "text": [
      "Threshold: 7 amount removed: 188\n",
      "imputations done: 583\n",
      "average_cc_df:                  Precision    Recall  F1 score\n",
      "open_active       0.963854  0.987654  0.975600\n",
      "open_inactive     0.948157  0.880282  0.912121\n",
      "closed_inactive   0.924284  0.931818  0.927565\n",
      "Averages          0.945432  0.933251  0.938429\n",
      "average_stats_df:                            Real open_active  Real open_inactive  \\\n",
      "Predicted open_active                 160.0                 0.5   \n",
      "Predicted open_inactive                 1.5                62.5   \n",
      "Predicted closed_inactive               0.5                 8.0   \n",
      "\n",
      "                           Real closed_inactive  \n",
      "Predicted open_active                       5.5  \n",
      "Predicted open_inactive                     2.0  \n",
      "Predicted closed_inactive                 102.5  \n",
      "Iterations: 2, f1_avg: 0.9384285648208364, p_avg: 0.9454317040312143, r_avg: 0.9332513976488938\n"
     ]
    },
    {
     "data": {
      "text/plain": [
       "(         F1 score  Precision    Recall\n",
       " Trial 1  0.934645   0.945517  0.927032\n",
       " Trial 2  0.942212   0.945347  0.939470,\n",
       "                  Precision    Recall  F1 score\n",
       " open_active       0.963854  0.987654  0.975600\n",
       " open_inactive     0.948157  0.880282  0.912121\n",
       " closed_inactive   0.924284  0.931818  0.927565\n",
       " Averages          0.945432  0.933251  0.938429,\n",
       "                            Real open_active  Real open_inactive  \\\n",
       " Predicted open_active                 160.0                 0.5   \n",
       " Predicted open_inactive                 1.5                62.5   \n",
       " Predicted closed_inactive               0.5                 8.0   \n",
       " \n",
       "                            Real closed_inactive  \n",
       " Predicted open_active                       5.5  \n",
       " Predicted open_inactive                     2.0  \n",
       " Predicted closed_inactive                 102.5  )"
      ]
     },
     "execution_count": 3,
     "metadata": {},
     "output_type": "execute_result"
    }
   ],
   "source": []
  },
  {
   "cell_type": "code",
   "execution_count": 8,
   "metadata": {},
   "outputs": [
    {
     "name": "stdout",
     "output_type": "stream",
     "text": [
      "Threshold: 5 amount removed: 265\n",
      "imputations done: 515\n",
      "[[ 13.690027   -7.9647217 -33.156235 ]\n",
      " [ 12.390814   -7.9399204 -33.62982  ]\n",
      " [ 15.119989   -7.3465767 -32.70518  ]\n",
      " [ 12.884764   -6.99403   -32.704075 ]\n",
      " [ 13.676333   -7.1279545 -33.07438  ]\n",
      " [  7.957789   -4.4532127 -35.42053  ]\n",
      " [ 12.649365   -7.1167316 -32.29173  ]\n",
      " [ 13.333803   -7.487314  -32.88313  ]\n",
      " [ 12.264061   -7.4235783 -33.18036  ]\n",
      " [ 12.123873   -7.4459877 -32.919895 ]\n",
      " [  9.597884   -7.1231823 -32.808884 ]\n",
      " [  9.19525    -7.014023  -32.944893 ]\n",
      " [ 12.403279   -7.4832115 -33.351818 ]\n",
      " [ 12.028874   -7.211445  -33.55394  ]\n",
      " [ 12.35442    -7.6371746 -33.096214 ]\n",
      " [ 11.7993555  -7.3732204 -33.16221  ]\n",
      " [ 12.48321    -7.614094  -33.27769  ]\n",
      " [ 11.847816   -7.0847473 -33.11984  ]\n",
      " [ 13.325991   -7.872345  -33.333405 ]\n",
      " [ 12.447739   -8.005365  -33.702305 ]\n",
      " [ 13.071325   -8.14897   -33.4143   ]\n",
      " [ 12.536812   -8.168755  -33.303223 ]\n",
      " [ 13.405638   -7.9365044 -33.220512 ]\n",
      " [ 12.203424   -7.9192944 -33.473045 ]\n",
      " [ 12.420717   -7.5837135 -33.32533  ]\n",
      " [  7.4386883  -6.3552074 -30.159376 ]\n",
      " [  7.854808   -5.894207  -29.967785 ]\n",
      " [ 14.981016   -7.8477116 -32.769325 ]\n",
      " [ 12.721993   -7.8028965 -33.050747 ]\n",
      " [ 12.864736   -7.831629  -33.132927 ]\n",
      " [ 12.555655   -7.6584854 -33.227665 ]\n",
      " [ 12.037546   -7.327858  -33.374077 ]\n",
      " [ 12.75408    -7.820051  -33.12436  ]\n",
      " [ 12.642717   -7.767824  -33.308804 ]\n",
      " [ 12.30186    -7.2170563 -33.301445 ]\n",
      " [ 13.649643   -7.6405506 -33.13848  ]\n",
      " [ 12.7290125  -7.8699074 -33.295708 ]\n",
      " [ 13.232029   -7.357832  -33.28419  ]\n",
      " [ 12.751673   -7.773405  -33.230755 ]\n",
      " [ 13.251156   -7.454088  -33.192806 ]\n",
      " [ 12.832726   -7.792883  -33.0627   ]\n",
      " [ 12.967686   -7.843836  -33.015736 ]\n",
      " [ 12.40866    -8.326183  -32.964836 ]\n",
      " [ 13.013182   -7.8289204 -33.174633 ]\n",
      " [ 12.173448   -7.962595  -33.453327 ]\n",
      " [  8.51481    -6.5430107 -29.315716 ]\n",
      " [ 13.144269   -7.622263  -33.072525 ]\n",
      " [ 12.780099   -7.7010098 -33.421535 ]\n",
      " [  8.733568   -5.865135  -29.553268 ]\n",
      " [  8.46398    -5.951666  -29.470245 ]\n",
      " [  8.185962   -5.899851  -29.850513 ]\n",
      " [  8.494286   -5.9999065 -28.999397 ]\n",
      " [  8.054422   -5.7877655 -29.835829 ]\n",
      " [  8.095137   -5.8876495 -29.178995 ]\n",
      " [ 10.961321   -7.5336723 -32.93049  ]\n",
      " [ 11.034252   -7.621891  -33.06774  ]\n",
      " [ 13.2566     -7.788021  -33.188004 ]\n",
      " [ 12.855213   -7.656065  -33.007484 ]\n",
      " [ 12.71319    -7.2256927 -32.90452  ]\n",
      " [ 13.26287    -7.5147324 -33.246902 ]\n",
      " [ 13.048355   -7.4268074 -33.088486 ]\n",
      " [  9.962503   -5.5540943 -29.290089 ]\n",
      " [  9.124183   -5.3278236 -29.516954 ]\n",
      " [  9.130125   -5.632902  -29.958027 ]\n",
      " [  8.202663   -5.914707  -29.71853  ]\n",
      " [ 13.035204   -7.266445  -32.988182 ]\n",
      " [ 13.087475   -7.3008995 -33.005867 ]\n",
      " [ 13.130432   -7.335253  -32.99329  ]\n",
      " [ 13.830143   -7.3546543 -33.239887 ]\n",
      " [ 12.885057   -7.5783615 -33.4328   ]\n",
      " [ 12.871885   -7.634226  -33.447407 ]\n",
      " [ 12.49463    -7.7453594 -33.085274 ]\n",
      " [ 12.663127   -8.158155  -33.116116 ]\n",
      " [ 12.060818   -7.493307  -33.34089  ]\n",
      " [ 12.442251   -7.988268  -33.26791  ]\n",
      " [ 12.923689   -7.5720577 -32.90942  ]\n",
      " [ 12.714815   -7.7747536 -32.959343 ]\n",
      " [ 13.008091   -7.525316  -33.02529  ]\n",
      " [ 13.002513   -7.68474   -33.029613 ]\n",
      " [ 12.210477   -6.722723  -32.745827 ]\n",
      " [ 12.498565   -7.534004  -33.642303 ]\n",
      " [ 11.762501   -6.9677277 -32.898323 ]\n",
      " [ 11.0336895  -6.770487  -32.744976 ]\n",
      " [ 12.455433   -7.386017  -33.32612  ]\n",
      " [ 11.555293   -7.4484386 -33.404903 ]\n",
      " [ 12.897609   -7.696108  -33.380917 ]\n",
      " [  7.091114   -6.3134003 -29.48622  ]\n",
      " [ 12.62583    -7.722069  -33.39223  ]\n",
      " [ 13.752216   -7.077812  -32.874123 ]\n",
      " [ 12.044256   -7.554796  -33.33056  ]\n",
      " [ 12.2437525  -7.5444107 -33.01378  ]\n",
      " [ 12.901501   -7.7707596 -33.19708  ]\n",
      " [ 13.205927   -7.5736904 -33.17884  ]\n",
      " [ 12.977899   -7.7246037 -33.12653  ]\n",
      " [ 12.034165   -7.468197  -33.15487  ]\n",
      " [ 12.54914    -6.962637  -32.883743 ]\n",
      " [ 11.210875   -6.5770073 -32.507137 ]\n",
      " [ 13.043045   -7.8436737 -33.36106  ]\n",
      " [ 12.407051   -7.3279076 -32.851616 ]\n",
      " [ 12.0350895  -7.289398  -32.77594  ]\n",
      " [ 12.688185   -7.2708035 -32.979603 ]\n",
      " [ 12.536402   -7.612873  -32.89249  ]\n",
      " [ 13.349823   -7.5071316 -33.23275  ]\n",
      " [ 12.648855   -7.6887894 -33.10193  ]\n",
      " [ 12.8228035  -7.585211  -33.077724 ]\n",
      " [ 12.502651   -7.8741474 -33.199276 ]\n",
      " [ 13.354923   -7.5947704 -33.283627 ]\n",
      " [ 12.990015   -7.7571487 -33.24001  ]\n",
      " [ 13.567263   -7.7030888 -32.934082 ]\n",
      " [ 13.211405   -7.737749  -33.134865 ]\n",
      " [ 12.791115   -7.36174   -32.67581  ]\n",
      " [ 13.490541   -7.438349  -32.932644 ]\n",
      " [ 13.145701   -7.9140778 -32.976383 ]\n",
      " [ 12.710007   -7.75342   -33.44501  ]\n",
      " [ 12.698507   -7.130163  -33.34713  ]\n",
      " [ 13.09376    -7.4478493 -33.64538  ]\n",
      " [ 12.478906   -6.9649696 -32.784256 ]\n",
      " [ 13.336689   -7.133936  -33.33767  ]\n",
      " [ 12.898748   -7.576235  -33.259933 ]\n",
      " [ 12.954348   -7.666954  -33.24279  ]\n",
      " [  8.613399   -6.643902  -28.8764   ]\n",
      " [  8.151979   -5.8829155 -29.429878 ]\n",
      " [ 13.635557   -8.122808  -33.040054 ]\n",
      " [ 13.216578   -8.182375  -32.941017 ]\n",
      " [ 13.226284   -8.246487  -33.01818  ]\n",
      " [ 12.200338   -7.388582  -33.17808  ]\n",
      " [ 11.80876    -7.847454  -33.50612  ]\n",
      " [ 12.71707    -7.7995644 -33.417503 ]\n",
      " [ 12.530991   -7.8749256 -33.255035 ]\n",
      " [ 12.726521   -6.845339  -32.347607 ]\n",
      " [ 13.3995495  -7.112047  -32.977463 ]\n",
      " [ 13.496768   -6.674307  -32.38101  ]\n",
      " [ 13.966024   -6.877022  -32.955467 ]\n",
      " [ 12.915016   -7.3425903 -32.85171  ]\n",
      " [ 13.332262   -7.2575054 -33.006966 ]\n",
      " [ 13.153566   -7.8476906 -33.152145 ]\n",
      " [ 10.276327   -6.796417  -31.771425 ]\n",
      " [ 10.011774   -6.856497  -31.60054  ]\n",
      " [  7.6905136  -6.358616  -31.30972  ]\n",
      " [  6.6515107  -5.262678  -28.977207 ]\n",
      " [ 10.276547   -6.9398174 -31.89956  ]\n",
      " [  5.153677   -6.636814  -29.770767 ]\n",
      " [  8.3333     -7.20969   -31.447844 ]\n",
      " [ 10.587555   -6.672901  -32.823166 ]\n",
      " [ 10.601116   -6.6757565 -32.823498 ]\n",
      " [ 10.931467   -7.080824  -32.793655 ]\n",
      " [ 10.964323   -7.073122  -32.769306 ]\n",
      " [  6.496164   -6.504978  -30.712158 ]\n",
      " [  6.8308854  -6.737301  -30.187744 ]\n",
      " [  6.3077703  -5.729727  -29.873957 ]\n",
      " [  5.968971   -6.6565647 -30.15499  ]\n",
      " [  6.3329782  -6.430889  -30.907024 ]\n",
      " [  6.576418   -6.363098  -30.476994 ]\n",
      " [  8.504607   -5.7160015 -29.739292 ]\n",
      " [  8.376539   -5.994732  -30.232456 ]\n",
      " [  7.597206   -6.06271   -28.821918 ]\n",
      " [  5.741103   -7.11854   -30.920967 ]\n",
      " [  6.9343204  -6.2809353 -29.365458 ]\n",
      " [  6.082399   -6.5104294 -31.30439  ]\n",
      " [  5.515382   -7.1422024 -30.898462 ]\n",
      " [  6.5718045  -6.892872  -29.200386 ]\n",
      " [  6.374305   -6.421673  -30.802124 ]\n",
      " [  7.47606    -6.205496  -30.185036 ]\n",
      " [  7.17982    -6.8670845 -30.969456 ]\n",
      " [  6.3113956  -6.8407707 -31.631157 ]\n",
      " [  8.405766   -5.253708  -30.622608 ]\n",
      " [  7.217081   -5.9085484 -31.734604 ]\n",
      " [  6.6842494  -6.6209164 -30.763515 ]\n",
      " [  7.5706005  -6.0028496 -29.810345 ]\n",
      " [  5.396561   -7.137945  -30.800646 ]\n",
      " [  7.2533154  -7.041239  -33.438877 ]\n",
      " [  7.46741    -4.984642  -31.835554 ]\n",
      " [  6.589742   -5.85046   -33.86818  ]\n",
      " [  7.3467836  -6.616646  -32.443176 ]\n",
      " [  7.871479   -4.5599422 -30.641052 ]\n",
      " [  7.0130467  -6.6421547 -32.875595 ]\n",
      " [  7.3323298  -6.7770195 -32.57317  ]\n",
      " [  6.346566   -6.5819473 -31.373291 ]\n",
      " [  7.5337377  -6.5800514 -32.572918 ]\n",
      " [  7.1078844  -6.633831  -30.28029  ]\n",
      " [  7.056016   -6.5791073 -30.017113 ]\n",
      " [  6.8675756  -6.7964535 -30.45614  ]\n",
      " [  8.292312   -5.7597427 -30.982235 ]\n",
      " [  6.2728453  -7.257555  -29.311335 ]\n",
      " [  8.18439    -6.3674335 -29.678322 ]\n",
      " [  5.7785425  -6.709133  -31.401785 ]\n",
      " [  5.8406997  -6.4034996 -32.646145 ]\n",
      " [  6.428054   -6.9984894 -30.356827 ]\n",
      " [  6.25345    -5.874197  -30.139893 ]\n",
      " [  7.3828406  -6.8131733 -31.945145 ]\n",
      " [  6.567754   -6.797268  -29.659283 ]\n",
      " [  5.459007   -7.3529606 -31.481989 ]\n",
      " [  5.3904824  -7.3874874 -31.401146 ]\n",
      " [  6.102526   -7.346485  -30.534256 ]\n",
      " [  6.7462616  -6.807604  -30.267384 ]\n",
      " [  7.154137   -6.035761  -30.797266 ]\n",
      " [  6.5548224  -6.2882366 -30.994196 ]\n",
      " [  7.4569063  -6.529007  -32.850563 ]\n",
      " [  6.622322   -7.417301  -31.60437  ]\n",
      " [  6.4245095  -6.5994244 -29.7048   ]\n",
      " [  6.244906   -6.351246  -29.366964 ]\n",
      " [  5.5378838  -6.8208714 -30.078074 ]\n",
      " [ 13.439612   -7.875084  -33.11336  ]\n",
      " [  5.3451242  -6.16284   -29.788815 ]\n",
      " [  5.449484   -6.348488  -30.147991 ]\n",
      " [ 13.065283   -7.027334  -34.40424  ]\n",
      " [ 12.944212   -8.139698  -33.432926 ]\n",
      " [ 12.32106    -7.6010456 -33.3273   ]\n",
      " [ 12.827607   -7.7562923 -33.22806  ]\n",
      " [ 11.973591   -7.524946  -33.20922  ]\n",
      " [ 12.58506    -8.056328  -33.030933 ]\n",
      " [ 12.768381   -7.915491  -33.24283  ]\n",
      " [ 12.783445   -7.8068466 -33.62087  ]\n",
      " [ 13.373571   -7.8726997 -33.117207 ]\n",
      " [ 12.090191   -7.6144485 -33.273094 ]\n",
      " [ 13.729019   -8.287462  -33.13089  ]\n",
      " [ 13.190798   -8.014927  -33.205624 ]\n",
      " [ 13.72373    -8.113445  -33.259377 ]\n",
      " [ 12.154882   -7.2613144 -33.56391  ]\n",
      " [ 12.70182    -7.6739407 -33.700882 ]\n",
      " [ 11.830087   -7.497362  -33.772526 ]\n",
      " [ 12.659754   -7.8566    -32.99125  ]\n",
      " [ 11.296194   -7.2734222 -33.118507 ]\n",
      " [ 12.953      -7.985     -33.225    ]\n",
      " [ 11.022553   -7.565481  -33.37522  ]\n",
      " [ 12.313141   -7.3309536 -33.30544  ]\n",
      " [ 10.5456085  -7.434765  -33.01545  ]\n",
      " [ 11.589956   -7.392355  -32.873817 ]\n",
      " [ 12.896685   -7.916815  -33.355957 ]\n",
      " [ 11.442547   -7.3362675 -33.1629   ]\n",
      " [ 10.667773   -7.29418   -33.06559  ]\n",
      " [ 12.854028   -7.9781723 -33.33001  ]\n",
      " [ 12.378012   -7.6626434 -33.23098  ]\n",
      " [ 12.512365   -7.955345  -32.946953 ]\n",
      " [ 11.251511   -7.500229  -32.990437 ]\n",
      " [ 13.100452   -8.068596  -33.2509   ]\n",
      " [ 12.807037   -7.693327  -33.402737 ]\n",
      " [ 12.7971     -7.919588  -33.379265 ]\n",
      " [ 11.372579   -7.2983837 -33.504757 ]\n",
      " [  7.395175   -5.905266  -30.635162 ]\n",
      " [ 10.165046   -6.7492046 -31.91774  ]\n",
      " [ 12.280678   -7.073427  -32.446857 ]\n",
      " [ 12.262011   -7.1847076 -32.502148 ]\n",
      " [  8.658167   -6.422907  -32.35055  ]\n",
      " [ 10.544      -6.9230766 -33.04492  ]\n",
      " [ 10.541731   -6.933277  -33.062386 ]\n",
      " [ 10.370656   -6.182497  -33.197845 ]\n",
      " [ 10.373625   -6.1856327 -33.20488  ]\n",
      " [  7.867061   -5.572874  -30.456572 ]\n",
      " [  9.328993   -6.0394287 -29.804068 ]\n",
      " [ 12.836712   -7.682171  -33.387478 ]\n",
      " [ 12.249757   -7.229166  -33.152763 ]\n",
      " [ 12.697626   -7.2638054 -32.743134 ]\n",
      " [ 13.208877   -7.3735676 -32.90153  ]\n",
      " [ 11.747402   -7.3456783 -33.052937 ]\n",
      " [ 12.791513   -7.65024   -33.405468 ]\n",
      " [ 12.670586   -7.425831  -33.38458  ]\n",
      " [ 12.471796   -7.535761  -33.780357 ]\n",
      " [ 11.711109   -7.941351  -35.410374 ]\n",
      " [ 12.696415   -7.8586254 -33.591858 ]\n",
      " [ 12.013557   -7.361109  -33.69626  ]\n",
      " [ 13.420671   -7.4323616 -33.341156 ]\n",
      " [ 12.573815   -7.2282963 -33.68654  ]\n",
      " [ 11.77572    -6.451994  -33.35365  ]\n",
      " [ 13.189226   -6.813574  -33.562946 ]\n",
      " [  8.843508   -5.1180363 -37.700466 ]]\n"
     ]
    }
   ],
   "source": [
    "new_seg_list, _ = threshold_remove(5)\n",
    "temp1 =coordinate_impute(new_seg_list)[0][0]\n",
    "print(temp1)"
   ]
  },
  {
   "cell_type": "code",
   "execution_count": 10,
   "metadata": {},
   "outputs": [
    {
     "name": "stdout",
     "output_type": "stream",
     "text": [
      "imputations done: 515\n"
     ]
    }
   ],
   "source": [
    "temp2 = coordinate_impute(new_seg_list)[0][0]\n",
    "for i in range(3):\n",
    "    for j in range(len(temp2)):\n",
    "        if temp2[j,i] != temp1[j,i]:\n",
    "            print(\"{temp2[j,i]} != {temp1[j,i]}\")\n"
   ]
  },
  {
   "cell_type": "code",
   "execution_count": 5,
   "metadata": {},
   "outputs": [
    {
     "ename": "KeyError",
     "evalue": "(0, 0)",
     "output_type": "error",
     "traceback": [
      "\u001b[0;31m---------------------------------------------------------------------------\u001b[0m",
      "\u001b[0;31mKeyError\u001b[0m                                  Traceback (most recent call last)",
      "\u001b[0;32m/var/folders/rf/gvtptwp96wvd1g29v6rqbgj40000gn/T/ipykernel_48990/2181928886.py\u001b[0m in \u001b[0;36m<module>\u001b[0;34m\u001b[0m\n\u001b[1;32m      3\u001b[0m \u001b[0mdf3\u001b[0m \u001b[0;34m=\u001b[0m \u001b[0;34m(\u001b[0m\u001b[0mdf1\u001b[0m \u001b[0;34m+\u001b[0m \u001b[0mdf2\u001b[0m\u001b[0;34m)\u001b[0m\u001b[0;34m/\u001b[0m\u001b[0;36m5\u001b[0m\u001b[0;34m\u001b[0m\u001b[0;34m\u001b[0m\u001b[0m\n\u001b[1;32m      4\u001b[0m \u001b[0;34m\u001b[0m\u001b[0m\n\u001b[0;32m----> 5\u001b[0;31m \u001b[0mprint\u001b[0m\u001b[0;34m(\u001b[0m\u001b[0;34mF\"df3[0,0]: {df3[0,0]}\"\u001b[0m\u001b[0;34m)\u001b[0m\u001b[0;34m\u001b[0m\u001b[0;34m\u001b[0m\u001b[0m\n\u001b[0m",
      "\u001b[0;32m/Library/Frameworks/Python.framework/Versions/3.9/lib/python3.9/site-packages/pandas/core/frame.py\u001b[0m in \u001b[0;36m__getitem__\u001b[0;34m(self, key)\u001b[0m\n\u001b[1;32m   3453\u001b[0m             \u001b[0;32mif\u001b[0m \u001b[0mself\u001b[0m\u001b[0;34m.\u001b[0m\u001b[0mcolumns\u001b[0m\u001b[0;34m.\u001b[0m\u001b[0mnlevels\u001b[0m \u001b[0;34m>\u001b[0m \u001b[0;36m1\u001b[0m\u001b[0;34m:\u001b[0m\u001b[0;34m\u001b[0m\u001b[0;34m\u001b[0m\u001b[0m\n\u001b[1;32m   3454\u001b[0m                 \u001b[0;32mreturn\u001b[0m \u001b[0mself\u001b[0m\u001b[0;34m.\u001b[0m\u001b[0m_getitem_multilevel\u001b[0m\u001b[0;34m(\u001b[0m\u001b[0mkey\u001b[0m\u001b[0;34m)\u001b[0m\u001b[0;34m\u001b[0m\u001b[0;34m\u001b[0m\u001b[0m\n\u001b[0;32m-> 3455\u001b[0;31m             \u001b[0mindexer\u001b[0m \u001b[0;34m=\u001b[0m \u001b[0mself\u001b[0m\u001b[0;34m.\u001b[0m\u001b[0mcolumns\u001b[0m\u001b[0;34m.\u001b[0m\u001b[0mget_loc\u001b[0m\u001b[0;34m(\u001b[0m\u001b[0mkey\u001b[0m\u001b[0;34m)\u001b[0m\u001b[0;34m\u001b[0m\u001b[0;34m\u001b[0m\u001b[0m\n\u001b[0m\u001b[1;32m   3456\u001b[0m             \u001b[0;32mif\u001b[0m \u001b[0mis_integer\u001b[0m\u001b[0;34m(\u001b[0m\u001b[0mindexer\u001b[0m\u001b[0;34m)\u001b[0m\u001b[0;34m:\u001b[0m\u001b[0;34m\u001b[0m\u001b[0;34m\u001b[0m\u001b[0m\n\u001b[1;32m   3457\u001b[0m                 \u001b[0mindexer\u001b[0m \u001b[0;34m=\u001b[0m \u001b[0;34m[\u001b[0m\u001b[0mindexer\u001b[0m\u001b[0;34m]\u001b[0m\u001b[0;34m\u001b[0m\u001b[0;34m\u001b[0m\u001b[0m\n",
      "\u001b[0;32m/Library/Frameworks/Python.framework/Versions/3.9/lib/python3.9/site-packages/pandas/core/indexes/range.py\u001b[0m in \u001b[0;36mget_loc\u001b[0;34m(self, key, method, tolerance)\u001b[0m\n\u001b[1;32m    386\u001b[0m                 \u001b[0;32mexcept\u001b[0m \u001b[0mValueError\u001b[0m \u001b[0;32mas\u001b[0m \u001b[0merr\u001b[0m\u001b[0;34m:\u001b[0m\u001b[0;34m\u001b[0m\u001b[0;34m\u001b[0m\u001b[0m\n\u001b[1;32m    387\u001b[0m                     \u001b[0;32mraise\u001b[0m \u001b[0mKeyError\u001b[0m\u001b[0;34m(\u001b[0m\u001b[0mkey\u001b[0m\u001b[0;34m)\u001b[0m \u001b[0;32mfrom\u001b[0m \u001b[0merr\u001b[0m\u001b[0;34m\u001b[0m\u001b[0;34m\u001b[0m\u001b[0m\n\u001b[0;32m--> 388\u001b[0;31m             \u001b[0;32mraise\u001b[0m \u001b[0mKeyError\u001b[0m\u001b[0;34m(\u001b[0m\u001b[0mkey\u001b[0m\u001b[0;34m)\u001b[0m\u001b[0;34m\u001b[0m\u001b[0;34m\u001b[0m\u001b[0m\n\u001b[0m\u001b[1;32m    389\u001b[0m         \u001b[0;32mreturn\u001b[0m \u001b[0msuper\u001b[0m\u001b[0;34m(\u001b[0m\u001b[0;34m)\u001b[0m\u001b[0;34m.\u001b[0m\u001b[0mget_loc\u001b[0m\u001b[0;34m(\u001b[0m\u001b[0mkey\u001b[0m\u001b[0;34m,\u001b[0m \u001b[0mmethod\u001b[0m\u001b[0;34m=\u001b[0m\u001b[0mmethod\u001b[0m\u001b[0;34m,\u001b[0m \u001b[0mtolerance\u001b[0m\u001b[0;34m=\u001b[0m\u001b[0mtolerance\u001b[0m\u001b[0;34m)\u001b[0m\u001b[0;34m\u001b[0m\u001b[0;34m\u001b[0m\u001b[0m\n\u001b[1;32m    390\u001b[0m \u001b[0;34m\u001b[0m\u001b[0m\n",
      "\u001b[0;31mKeyError\u001b[0m: (0, 0)"
     ]
    }
   ],
   "source": [
    "df1  = df([0,2])\n",
    "df2 = df([1,5])\n",
    "df3 = (df1 + df2)/5\n",
    "\n",
    "print(F\"df3[0,0]: {df3[0,0]}\")\n"
   ]
  },
  {
   "cell_type": "code",
   "execution_count": 58,
   "metadata": {},
   "outputs": [],
   "source": [
    "with open(\"conformation_by_index_link_vectors.var\", \"rb\") as infile:\n",
    "    conformation_by_index_link_vectors = pickle.load(infile)"
   ]
  },
  {
   "cell_type": "code",
   "execution_count": 59,
   "metadata": {},
   "outputs": [
    {
     "ename": "TypeError",
     "evalue": "sum() got an unexpected keyword argument 'keepdims'",
     "output_type": "error",
     "traceback": [
      "\u001b[0;31m---------------------------------------------------------------------------\u001b[0m",
      "\u001b[0;31mTypeError\u001b[0m                                 Traceback (most recent call last)",
      "\u001b[0;32m/var/folders/rf/gvtptwp96wvd1g29v6rqbgj40000gn/T/ipykernel_24431/4267169589.py\u001b[0m in \u001b[0;36m<module>\u001b[0;34m\u001b[0m\n\u001b[1;32m      5\u001b[0m     \u001b[0mmasked_mat\u001b[0m \u001b[0;34m=\u001b[0m \u001b[0mnp\u001b[0m\u001b[0;34m.\u001b[0m\u001b[0mma\u001b[0m\u001b[0;34m.\u001b[0m\u001b[0mmasked_array\u001b[0m\u001b[0;34m(\u001b[0m\u001b[0mconformation_by_index_link_vectors\u001b[0m\u001b[0;34m[\u001b[0m\u001b[0mi\u001b[0m\u001b[0;34m]\u001b[0m\u001b[0;34m,\u001b[0m \u001b[0mnp\u001b[0m\u001b[0;34m.\u001b[0m\u001b[0misnan\u001b[0m\u001b[0;34m(\u001b[0m\u001b[0mconformation_by_index_link_vectors\u001b[0m\u001b[0;34m[\u001b[0m\u001b[0mi\u001b[0m\u001b[0;34m]\u001b[0m\u001b[0;34m)\u001b[0m\u001b[0;34m)\u001b[0m\u001b[0;34m\u001b[0m\u001b[0;34m\u001b[0m\u001b[0m\n\u001b[1;32m      6\u001b[0m     \u001b[0mconformation_by_index_link_masked\u001b[0m\u001b[0;34m.\u001b[0m\u001b[0mappend\u001b[0m\u001b[0;34m(\u001b[0m\u001b[0mmasked_mat\u001b[0m\u001b[0;34m)\u001b[0m\u001b[0;34m\u001b[0m\u001b[0;34m\u001b[0m\u001b[0m\n\u001b[0;32m----> 7\u001b[0;31m \u001b[0mconformation_by_index_link_masked\u001b[0m\u001b[0;34m[\u001b[0m\u001b[0;36m0\u001b[0m\u001b[0;34m]\u001b[0m\u001b[0;34m.\u001b[0m\u001b[0mvar\u001b[0m\u001b[0;34m(\u001b[0m\u001b[0mkeepdims\u001b[0m\u001b[0;34m=\u001b[0m\u001b[0;32mFalse\u001b[0m\u001b[0;34m)\u001b[0m\u001b[0;34m\u001b[0m\u001b[0;34m\u001b[0m\u001b[0m\n\u001b[0m\u001b[1;32m      8\u001b[0m \u001b[0;31m#print(len(np.isnan(conformation_by_index_link_vectors[0])))\u001b[0m\u001b[0;34m\u001b[0m\u001b[0;34m\u001b[0m\u001b[0;34m\u001b[0m\u001b[0m\n\u001b[1;32m      9\u001b[0m \u001b[0;31m#tot = np.sum(conformation_by_index_link_masked[0])\u001b[0m\u001b[0;34m\u001b[0m\u001b[0;34m\u001b[0m\u001b[0;34m\u001b[0m\u001b[0m\n",
      "\u001b[0;32m/Library/Frameworks/Python.framework/Versions/3.9/lib/python3.9/site-packages/numpy/ma/core.py\u001b[0m in \u001b[0;36mvar\u001b[0;34m(self, axis, dtype, out, ddof, keepdims)\u001b[0m\n\u001b[1;32m   5328\u001b[0m \u001b[0;34m\u001b[0m\u001b[0m\n\u001b[1;32m   5329\u001b[0m         \u001b[0;31m# Some data are masked, yay!\u001b[0m\u001b[0;34m\u001b[0m\u001b[0;34m\u001b[0m\u001b[0;34m\u001b[0m\u001b[0m\n\u001b[0;32m-> 5330\u001b[0;31m         \u001b[0mcnt\u001b[0m \u001b[0;34m=\u001b[0m \u001b[0mself\u001b[0m\u001b[0;34m.\u001b[0m\u001b[0mcount\u001b[0m\u001b[0;34m(\u001b[0m\u001b[0maxis\u001b[0m\u001b[0;34m=\u001b[0m\u001b[0maxis\u001b[0m\u001b[0;34m,\u001b[0m \u001b[0;34m**\u001b[0m\u001b[0mkwargs\u001b[0m\u001b[0;34m)\u001b[0m \u001b[0;34m-\u001b[0m \u001b[0mddof\u001b[0m\u001b[0;34m\u001b[0m\u001b[0;34m\u001b[0m\u001b[0m\n\u001b[0m\u001b[1;32m   5331\u001b[0m         \u001b[0mdanom\u001b[0m \u001b[0;34m=\u001b[0m \u001b[0mself\u001b[0m \u001b[0;34m-\u001b[0m \u001b[0mself\u001b[0m\u001b[0;34m.\u001b[0m\u001b[0mmean\u001b[0m\u001b[0;34m(\u001b[0m\u001b[0maxis\u001b[0m\u001b[0;34m,\u001b[0m \u001b[0mdtype\u001b[0m\u001b[0;34m,\u001b[0m \u001b[0mkeepdims\u001b[0m\u001b[0;34m=\u001b[0m\u001b[0;32mTrue\u001b[0m\u001b[0;34m)\u001b[0m\u001b[0;34m\u001b[0m\u001b[0;34m\u001b[0m\u001b[0m\n\u001b[1;32m   5332\u001b[0m         \u001b[0;32mif\u001b[0m \u001b[0miscomplexobj\u001b[0m\u001b[0;34m(\u001b[0m\u001b[0mself\u001b[0m\u001b[0;34m)\u001b[0m\u001b[0;34m:\u001b[0m\u001b[0;34m\u001b[0m\u001b[0;34m\u001b[0m\u001b[0m\n",
      "\u001b[0;32m/Library/Frameworks/Python.framework/Versions/3.9/lib/python3.9/site-packages/numpy/ma/core.py\u001b[0m in \u001b[0;36mcount\u001b[0;34m(self, axis, keepdims)\u001b[0m\n\u001b[1;32m   4535\u001b[0m             \u001b[0;32mreturn\u001b[0m \u001b[0;36m0\u001b[0m\u001b[0;34m\u001b[0m\u001b[0;34m\u001b[0m\u001b[0m\n\u001b[1;32m   4536\u001b[0m \u001b[0;34m\u001b[0m\u001b[0m\n\u001b[0;32m-> 4537\u001b[0;31m         \u001b[0;32mreturn\u001b[0m \u001b[0;34m(\u001b[0m\u001b[0;34m~\u001b[0m\u001b[0mm\u001b[0m\u001b[0;34m)\u001b[0m\u001b[0;34m.\u001b[0m\u001b[0msum\u001b[0m\u001b[0;34m(\u001b[0m\u001b[0maxis\u001b[0m\u001b[0;34m=\u001b[0m\u001b[0maxis\u001b[0m\u001b[0;34m,\u001b[0m \u001b[0mdtype\u001b[0m\u001b[0;34m=\u001b[0m\u001b[0mnp\u001b[0m\u001b[0;34m.\u001b[0m\u001b[0mintp\u001b[0m\u001b[0;34m,\u001b[0m \u001b[0;34m**\u001b[0m\u001b[0mkwargs\u001b[0m\u001b[0;34m)\u001b[0m\u001b[0;34m\u001b[0m\u001b[0;34m\u001b[0m\u001b[0m\n\u001b[0m\u001b[1;32m   4538\u001b[0m \u001b[0;34m\u001b[0m\u001b[0m\n\u001b[1;32m   4539\u001b[0m     \u001b[0;32mdef\u001b[0m \u001b[0mravel\u001b[0m\u001b[0;34m(\u001b[0m\u001b[0mself\u001b[0m\u001b[0;34m,\u001b[0m \u001b[0morder\u001b[0m\u001b[0;34m=\u001b[0m\u001b[0;34m'C'\u001b[0m\u001b[0;34m)\u001b[0m\u001b[0;34m:\u001b[0m\u001b[0;34m\u001b[0m\u001b[0;34m\u001b[0m\u001b[0m\n",
      "\u001b[0;31mTypeError\u001b[0m: sum() got an unexpected keyword argument 'keepdims'"
     ]
    }
   ],
   "source": [
    "conformation_by_index_link_var = list()\n",
    "conformation_by_index_link_masked = list()\n",
    "for i in range(len(conformation_by_index_link_vectors)):\n",
    "    conformation_by_index_link_vectors[i] = np.matrix(conformation_by_index_link_vectors[i])\n",
    "    masked_mat = np.ma.masked_array(conformation_by_index_link_vectors[i], np.isnan(conformation_by_index_link_vectors[i]))\n",
    "    conformation_by_index_link_masked.append(masked_mat)\n",
    "conformation_by_index_link_masked[0].var(keepdims=False)\n",
    "#print(len(np.isnan(conformation_by_index_link_vectors[0])))\n",
    "#tot = np.sum(conformation_by_index_link_masked[0])\n",
    "#print(tot)\n",
    "# np.var(conformation_by_index_link_masked[0], axis=0)\n",
    "# mat = df(conformation_by_index_link_masked[0])\n",
    "# mat.var(axis=0)\n",
    "#print(f\"conformation_by_index_link_var: {conformation_by_index_link_var}\")"
   ]
  },
  {
   "cell_type": "code",
   "execution_count": 56,
   "metadata": {},
   "outputs": [
    {
     "name": "stdout",
     "output_type": "stream",
     "text": [
      "masked_matrix: [[2.0 3.0 4.0]\n",
      " [-- -- --]\n",
      " [3.0 4.0 2.0]]\n"
     ]
    }
   ],
   "source": [
    "matrix = [[2,3,4], [np.nan,np.nan,np.nan], [3,4,2]]\n",
    "matrix2 = [[2,5,7], [np.nan,np.nan,np.nan], [2,3,2]]\n",
    "big_mat = [matrix,matrix2]\n",
    "np.matrix(matrix)\n",
    "masked_matrix = np.ma.masked_array(matrix, np.isnan(matrix))\n",
    "print(f\"masked_matrix: {masked_matrix}\")"
   ]
  },
  {
   "cell_type": "code",
   "execution_count": 42,
   "metadata": {},
   "outputs": [
    {
     "name": "stdout",
     "output_type": "stream",
     "text": [
      "[0 3 4]\n"
     ]
    }
   ],
   "source": [
    "arr = np.array([[0,3,4]])\n",
    "print(arr[0])"
   ]
  },
  {
   "cell_type": "code",
   "execution_count": 57,
   "metadata": {},
   "outputs": [
    {
     "data": {
      "text/plain": [
       "masked_array(\n",
       "  data=[[nan, nan, nan],\n",
       "        [--, --, --],\n",
       "        [nan, nan, nan]],\n",
       "  mask=[[False, False, False],\n",
       "        [ True,  True,  True],\n",
       "        [False, False, False]],\n",
       "  fill_value=1e+20)"
      ]
     },
     "execution_count": 57,
     "metadata": {},
     "output_type": "execute_result"
    }
   ],
   "source": [
    "masked_matrix.var()\n",
    "np.dot(masked_matrix,masked_matrix)"
   ]
  },
  {
   "cell_type": "code",
   "execution_count": 5,
   "metadata": {},
   "outputs": [
    {
     "ename": "ValueError",
     "evalue": "Found array with dim 3. Estimator expected <= 2.",
     "output_type": "error",
     "traceback": [
      "\u001b[0;31m---------------------------------------------------------------------------\u001b[0m",
      "\u001b[0;31mValueError\u001b[0m                                Traceback (most recent call last)",
      "\u001b[0;32m/var/folders/rf/gvtptwp96wvd1g29v6rqbgj40000gn/T/ipykernel_18928/1787332279.py\u001b[0m in \u001b[0;36m<module>\u001b[0;34m\u001b[0m\n\u001b[1;32m      1\u001b[0m \u001b[0mimp\u001b[0m \u001b[0;34m=\u001b[0m \u001b[0mIterativeImputer\u001b[0m\u001b[0;34m(\u001b[0m\u001b[0;34m)\u001b[0m\u001b[0;34m\u001b[0m\u001b[0;34m\u001b[0m\u001b[0m\n\u001b[0;32m----> 2\u001b[0;31m \u001b[0mimp\u001b[0m\u001b[0;34m.\u001b[0m\u001b[0mfit_transform\u001b[0m\u001b[0;34m(\u001b[0m\u001b[0mbig_mat\u001b[0m\u001b[0;34m)\u001b[0m\u001b[0;34m\u001b[0m\u001b[0;34m\u001b[0m\u001b[0m\n\u001b[0m",
      "\u001b[0;32m/Library/Frameworks/Python.framework/Versions/3.9/lib/python3.9/site-packages/sklearn/impute/_iterative.py\u001b[0m in \u001b[0;36mfit_transform\u001b[0;34m(self, X, y)\u001b[0m\n\u001b[1;32m    605\u001b[0m \u001b[0;34m\u001b[0m\u001b[0m\n\u001b[1;32m    606\u001b[0m         X, Xt, mask_missing_values, complete_mask = (\n\u001b[0;32m--> 607\u001b[0;31m             self._initial_imputation(X, in_fit=True))\n\u001b[0m\u001b[1;32m    608\u001b[0m \u001b[0;34m\u001b[0m\u001b[0m\n\u001b[1;32m    609\u001b[0m         \u001b[0msuper\u001b[0m\u001b[0;34m(\u001b[0m\u001b[0;34m)\u001b[0m\u001b[0;34m.\u001b[0m\u001b[0m_fit_indicator\u001b[0m\u001b[0;34m(\u001b[0m\u001b[0mcomplete_mask\u001b[0m\u001b[0;34m)\u001b[0m\u001b[0;34m\u001b[0m\u001b[0;34m\u001b[0m\u001b[0m\n",
      "\u001b[0;32m/Library/Frameworks/Python.framework/Versions/3.9/lib/python3.9/site-packages/sklearn/impute/_iterative.py\u001b[0m in \u001b[0;36m_initial_imputation\u001b[0;34m(self, X, in_fit)\u001b[0m\n\u001b[1;32m    510\u001b[0m             \u001b[0mforce_all_finite\u001b[0m \u001b[0;34m=\u001b[0m \u001b[0;32mTrue\u001b[0m\u001b[0;34m\u001b[0m\u001b[0;34m\u001b[0m\u001b[0m\n\u001b[1;32m    511\u001b[0m \u001b[0;34m\u001b[0m\u001b[0m\n\u001b[0;32m--> 512\u001b[0;31m         X = self._validate_data(X, dtype=FLOAT_DTYPES, order=\"F\", reset=in_fit,\n\u001b[0m\u001b[1;32m    513\u001b[0m                                 force_all_finite=force_all_finite)\n\u001b[1;32m    514\u001b[0m         \u001b[0m_check_inputs_dtype\u001b[0m\u001b[0;34m(\u001b[0m\u001b[0mX\u001b[0m\u001b[0;34m,\u001b[0m \u001b[0mself\u001b[0m\u001b[0;34m.\u001b[0m\u001b[0mmissing_values\u001b[0m\u001b[0;34m)\u001b[0m\u001b[0;34m\u001b[0m\u001b[0;34m\u001b[0m\u001b[0m\n",
      "\u001b[0;32m/Library/Frameworks/Python.framework/Versions/3.9/lib/python3.9/site-packages/sklearn/base.py\u001b[0m in \u001b[0;36m_validate_data\u001b[0;34m(self, X, y, reset, validate_separately, **check_params)\u001b[0m\n\u001b[1;32m    419\u001b[0m             \u001b[0mout\u001b[0m \u001b[0;34m=\u001b[0m \u001b[0mX\u001b[0m\u001b[0;34m\u001b[0m\u001b[0;34m\u001b[0m\u001b[0m\n\u001b[1;32m    420\u001b[0m         \u001b[0;32melif\u001b[0m \u001b[0misinstance\u001b[0m\u001b[0;34m(\u001b[0m\u001b[0my\u001b[0m\u001b[0;34m,\u001b[0m \u001b[0mstr\u001b[0m\u001b[0;34m)\u001b[0m \u001b[0;32mand\u001b[0m \u001b[0my\u001b[0m \u001b[0;34m==\u001b[0m \u001b[0;34m'no_validation'\u001b[0m\u001b[0;34m:\u001b[0m\u001b[0;34m\u001b[0m\u001b[0;34m\u001b[0m\u001b[0m\n\u001b[0;32m--> 421\u001b[0;31m             \u001b[0mX\u001b[0m \u001b[0;34m=\u001b[0m \u001b[0mcheck_array\u001b[0m\u001b[0;34m(\u001b[0m\u001b[0mX\u001b[0m\u001b[0;34m,\u001b[0m \u001b[0;34m**\u001b[0m\u001b[0mcheck_params\u001b[0m\u001b[0;34m)\u001b[0m\u001b[0;34m\u001b[0m\u001b[0;34m\u001b[0m\u001b[0m\n\u001b[0m\u001b[1;32m    422\u001b[0m             \u001b[0mout\u001b[0m \u001b[0;34m=\u001b[0m \u001b[0mX\u001b[0m\u001b[0;34m\u001b[0m\u001b[0;34m\u001b[0m\u001b[0m\n\u001b[1;32m    423\u001b[0m         \u001b[0;32melse\u001b[0m\u001b[0;34m:\u001b[0m\u001b[0;34m\u001b[0m\u001b[0;34m\u001b[0m\u001b[0m\n",
      "\u001b[0;32m/Library/Frameworks/Python.framework/Versions/3.9/lib/python3.9/site-packages/sklearn/utils/validation.py\u001b[0m in \u001b[0;36minner_f\u001b[0;34m(*args, **kwargs)\u001b[0m\n\u001b[1;32m     61\u001b[0m             \u001b[0mextra_args\u001b[0m \u001b[0;34m=\u001b[0m \u001b[0mlen\u001b[0m\u001b[0;34m(\u001b[0m\u001b[0margs\u001b[0m\u001b[0;34m)\u001b[0m \u001b[0;34m-\u001b[0m \u001b[0mlen\u001b[0m\u001b[0;34m(\u001b[0m\u001b[0mall_args\u001b[0m\u001b[0;34m)\u001b[0m\u001b[0;34m\u001b[0m\u001b[0;34m\u001b[0m\u001b[0m\n\u001b[1;32m     62\u001b[0m             \u001b[0;32mif\u001b[0m \u001b[0mextra_args\u001b[0m \u001b[0;34m<=\u001b[0m \u001b[0;36m0\u001b[0m\u001b[0;34m:\u001b[0m\u001b[0;34m\u001b[0m\u001b[0;34m\u001b[0m\u001b[0m\n\u001b[0;32m---> 63\u001b[0;31m                 \u001b[0;32mreturn\u001b[0m \u001b[0mf\u001b[0m\u001b[0;34m(\u001b[0m\u001b[0;34m*\u001b[0m\u001b[0margs\u001b[0m\u001b[0;34m,\u001b[0m \u001b[0;34m**\u001b[0m\u001b[0mkwargs\u001b[0m\u001b[0;34m)\u001b[0m\u001b[0;34m\u001b[0m\u001b[0;34m\u001b[0m\u001b[0m\n\u001b[0m\u001b[1;32m     64\u001b[0m \u001b[0;34m\u001b[0m\u001b[0m\n\u001b[1;32m     65\u001b[0m             \u001b[0;31m# extra_args > 0\u001b[0m\u001b[0;34m\u001b[0m\u001b[0;34m\u001b[0m\u001b[0;34m\u001b[0m\u001b[0m\n",
      "\u001b[0;32m/Library/Frameworks/Python.framework/Versions/3.9/lib/python3.9/site-packages/sklearn/utils/validation.py\u001b[0m in \u001b[0;36mcheck_array\u001b[0;34m(array, accept_sparse, accept_large_sparse, dtype, order, copy, force_all_finite, ensure_2d, allow_nd, ensure_min_samples, ensure_min_features, estimator)\u001b[0m\n\u001b[1;32m    714\u001b[0m                     \"into decimal numbers with dtype='numeric'\") from e\n\u001b[1;32m    715\u001b[0m         \u001b[0;32mif\u001b[0m \u001b[0;32mnot\u001b[0m \u001b[0mallow_nd\u001b[0m \u001b[0;32mand\u001b[0m \u001b[0marray\u001b[0m\u001b[0;34m.\u001b[0m\u001b[0mndim\u001b[0m \u001b[0;34m>=\u001b[0m \u001b[0;36m3\u001b[0m\u001b[0;34m:\u001b[0m\u001b[0;34m\u001b[0m\u001b[0;34m\u001b[0m\u001b[0m\n\u001b[0;32m--> 716\u001b[0;31m             raise ValueError(\"Found array with dim %d. %s expected <= 2.\"\n\u001b[0m\u001b[1;32m    717\u001b[0m                              % (array.ndim, estimator_name))\n\u001b[1;32m    718\u001b[0m \u001b[0;34m\u001b[0m\u001b[0m\n",
      "\u001b[0;31mValueError\u001b[0m: Found array with dim 3. Estimator expected <= 2."
     ]
    }
   ],
   "source": [
    "imp = IterativeImputer()\n",
    "imp.fit_transform(matrix)"
   ]
  },
  {
   "cell_type": "code",
   "execution_count": 18,
   "metadata": {},
   "outputs": [
    {
     "data": {
      "text/plain": [
       "3.0"
      ]
     },
     "execution_count": 18,
     "metadata": {},
     "output_type": "execute_result"
    }
   ],
   "source": [
    "np.average(masked_matrix)"
   ]
  },
  {
   "cell_type": "code",
   "execution_count": 7,
   "metadata": {},
   "outputs": [
    {
     "ename": "ValueError",
     "evalue": "Input contains NaN, infinity or a value too large for dtype('float32').",
     "output_type": "error",
     "traceback": [
      "\u001b[0;31m---------------------------------------------------------------------------\u001b[0m",
      "\u001b[0;31mValueError\u001b[0m                                Traceback (most recent call last)",
      "\u001b[0;32m/var/folders/rf/gvtptwp96wvd1g29v6rqbgj40000gn/T/ipykernel_18928/1398724733.py\u001b[0m in \u001b[0;36m<module>\u001b[0;34m\u001b[0m\n\u001b[0;32m----> 1\u001b[0;31m \u001b[0mreduced_matrix\u001b[0m \u001b[0;34m=\u001b[0m\u001b[0mTSNE\u001b[0m\u001b[0;34m(\u001b[0m\u001b[0mn_components\u001b[0m\u001b[0;34m=\u001b[0m\u001b[0;36m2\u001b[0m\u001b[0;34m)\u001b[0m\u001b[0;34m.\u001b[0m\u001b[0mfit_transform\u001b[0m\u001b[0;34m(\u001b[0m\u001b[0mmatrix\u001b[0m\u001b[0;34m)\u001b[0m\u001b[0;34m\u001b[0m\u001b[0;34m\u001b[0m\u001b[0m\n\u001b[0m",
      "\u001b[0;32m/Library/Frameworks/Python.framework/Versions/3.9/lib/python3.9/site-packages/sklearn/manifold/_t_sne.py\u001b[0m in \u001b[0;36mfit_transform\u001b[0;34m(self, X, y)\u001b[0m\n\u001b[1;32m    930\u001b[0m             \u001b[0mEmbedding\u001b[0m \u001b[0mof\u001b[0m \u001b[0mthe\u001b[0m \u001b[0mtraining\u001b[0m \u001b[0mdata\u001b[0m \u001b[0;32min\u001b[0m \u001b[0mlow\u001b[0m\u001b[0;34m-\u001b[0m\u001b[0mdimensional\u001b[0m \u001b[0mspace\u001b[0m\u001b[0;34m.\u001b[0m\u001b[0;34m\u001b[0m\u001b[0;34m\u001b[0m\u001b[0m\n\u001b[1;32m    931\u001b[0m         \"\"\"\n\u001b[0;32m--> 932\u001b[0;31m         \u001b[0membedding\u001b[0m \u001b[0;34m=\u001b[0m \u001b[0mself\u001b[0m\u001b[0;34m.\u001b[0m\u001b[0m_fit\u001b[0m\u001b[0;34m(\u001b[0m\u001b[0mX\u001b[0m\u001b[0;34m)\u001b[0m\u001b[0;34m\u001b[0m\u001b[0;34m\u001b[0m\u001b[0m\n\u001b[0m\u001b[1;32m    933\u001b[0m         \u001b[0mself\u001b[0m\u001b[0;34m.\u001b[0m\u001b[0membedding_\u001b[0m \u001b[0;34m=\u001b[0m \u001b[0membedding\u001b[0m\u001b[0;34m\u001b[0m\u001b[0;34m\u001b[0m\u001b[0m\n\u001b[1;32m    934\u001b[0m         \u001b[0;32mreturn\u001b[0m \u001b[0mself\u001b[0m\u001b[0;34m.\u001b[0m\u001b[0membedding_\u001b[0m\u001b[0;34m\u001b[0m\u001b[0;34m\u001b[0m\u001b[0m\n",
      "\u001b[0;32m/Library/Frameworks/Python.framework/Versions/3.9/lib/python3.9/site-packages/sklearn/manifold/_t_sne.py\u001b[0m in \u001b[0;36m_fit\u001b[0;34m(self, X, skip_num_points)\u001b[0m\n\u001b[1;32m    700\u001b[0m             )\n\u001b[1;32m    701\u001b[0m         \u001b[0;32mif\u001b[0m \u001b[0mself\u001b[0m\u001b[0;34m.\u001b[0m\u001b[0mmethod\u001b[0m \u001b[0;34m==\u001b[0m \u001b[0;34m'barnes_hut'\u001b[0m\u001b[0;34m:\u001b[0m\u001b[0;34m\u001b[0m\u001b[0;34m\u001b[0m\u001b[0m\n\u001b[0;32m--> 702\u001b[0;31m             X = self._validate_data(X, accept_sparse=['csr'],\n\u001b[0m\u001b[1;32m    703\u001b[0m                                     \u001b[0mensure_min_samples\u001b[0m\u001b[0;34m=\u001b[0m\u001b[0;36m2\u001b[0m\u001b[0;34m,\u001b[0m\u001b[0;34m\u001b[0m\u001b[0;34m\u001b[0m\u001b[0m\n\u001b[1;32m    704\u001b[0m                                     dtype=[np.float32, np.float64])\n",
      "\u001b[0;32m/Library/Frameworks/Python.framework/Versions/3.9/lib/python3.9/site-packages/sklearn/base.py\u001b[0m in \u001b[0;36m_validate_data\u001b[0;34m(self, X, y, reset, validate_separately, **check_params)\u001b[0m\n\u001b[1;32m    419\u001b[0m             \u001b[0mout\u001b[0m \u001b[0;34m=\u001b[0m \u001b[0mX\u001b[0m\u001b[0;34m\u001b[0m\u001b[0;34m\u001b[0m\u001b[0m\n\u001b[1;32m    420\u001b[0m         \u001b[0;32melif\u001b[0m \u001b[0misinstance\u001b[0m\u001b[0;34m(\u001b[0m\u001b[0my\u001b[0m\u001b[0;34m,\u001b[0m \u001b[0mstr\u001b[0m\u001b[0;34m)\u001b[0m \u001b[0;32mand\u001b[0m \u001b[0my\u001b[0m \u001b[0;34m==\u001b[0m \u001b[0;34m'no_validation'\u001b[0m\u001b[0;34m:\u001b[0m\u001b[0;34m\u001b[0m\u001b[0;34m\u001b[0m\u001b[0m\n\u001b[0;32m--> 421\u001b[0;31m             \u001b[0mX\u001b[0m \u001b[0;34m=\u001b[0m \u001b[0mcheck_array\u001b[0m\u001b[0;34m(\u001b[0m\u001b[0mX\u001b[0m\u001b[0;34m,\u001b[0m \u001b[0;34m**\u001b[0m\u001b[0mcheck_params\u001b[0m\u001b[0;34m)\u001b[0m\u001b[0;34m\u001b[0m\u001b[0;34m\u001b[0m\u001b[0m\n\u001b[0m\u001b[1;32m    422\u001b[0m             \u001b[0mout\u001b[0m \u001b[0;34m=\u001b[0m \u001b[0mX\u001b[0m\u001b[0;34m\u001b[0m\u001b[0;34m\u001b[0m\u001b[0m\n\u001b[1;32m    423\u001b[0m         \u001b[0;32melse\u001b[0m\u001b[0;34m:\u001b[0m\u001b[0;34m\u001b[0m\u001b[0;34m\u001b[0m\u001b[0m\n",
      "\u001b[0;32m/Library/Frameworks/Python.framework/Versions/3.9/lib/python3.9/site-packages/sklearn/utils/validation.py\u001b[0m in \u001b[0;36minner_f\u001b[0;34m(*args, **kwargs)\u001b[0m\n\u001b[1;32m     61\u001b[0m             \u001b[0mextra_args\u001b[0m \u001b[0;34m=\u001b[0m \u001b[0mlen\u001b[0m\u001b[0;34m(\u001b[0m\u001b[0margs\u001b[0m\u001b[0;34m)\u001b[0m \u001b[0;34m-\u001b[0m \u001b[0mlen\u001b[0m\u001b[0;34m(\u001b[0m\u001b[0mall_args\u001b[0m\u001b[0;34m)\u001b[0m\u001b[0;34m\u001b[0m\u001b[0;34m\u001b[0m\u001b[0m\n\u001b[1;32m     62\u001b[0m             \u001b[0;32mif\u001b[0m \u001b[0mextra_args\u001b[0m \u001b[0;34m<=\u001b[0m \u001b[0;36m0\u001b[0m\u001b[0;34m:\u001b[0m\u001b[0;34m\u001b[0m\u001b[0;34m\u001b[0m\u001b[0m\n\u001b[0;32m---> 63\u001b[0;31m                 \u001b[0;32mreturn\u001b[0m \u001b[0mf\u001b[0m\u001b[0;34m(\u001b[0m\u001b[0;34m*\u001b[0m\u001b[0margs\u001b[0m\u001b[0;34m,\u001b[0m \u001b[0;34m**\u001b[0m\u001b[0mkwargs\u001b[0m\u001b[0;34m)\u001b[0m\u001b[0;34m\u001b[0m\u001b[0;34m\u001b[0m\u001b[0m\n\u001b[0m\u001b[1;32m     64\u001b[0m \u001b[0;34m\u001b[0m\u001b[0m\n\u001b[1;32m     65\u001b[0m             \u001b[0;31m# extra_args > 0\u001b[0m\u001b[0;34m\u001b[0m\u001b[0;34m\u001b[0m\u001b[0;34m\u001b[0m\u001b[0m\n",
      "\u001b[0;32m/Library/Frameworks/Python.framework/Versions/3.9/lib/python3.9/site-packages/sklearn/utils/validation.py\u001b[0m in \u001b[0;36mcheck_array\u001b[0;34m(array, accept_sparse, accept_large_sparse, dtype, order, copy, force_all_finite, ensure_2d, allow_nd, ensure_min_samples, ensure_min_features, estimator)\u001b[0m\n\u001b[1;32m    718\u001b[0m \u001b[0;34m\u001b[0m\u001b[0m\n\u001b[1;32m    719\u001b[0m         \u001b[0;32mif\u001b[0m \u001b[0mforce_all_finite\u001b[0m\u001b[0;34m:\u001b[0m\u001b[0;34m\u001b[0m\u001b[0;34m\u001b[0m\u001b[0m\n\u001b[0;32m--> 720\u001b[0;31m             _assert_all_finite(array,\n\u001b[0m\u001b[1;32m    721\u001b[0m                                allow_nan=force_all_finite == 'allow-nan')\n\u001b[1;32m    722\u001b[0m \u001b[0;34m\u001b[0m\u001b[0m\n",
      "\u001b[0;32m/Library/Frameworks/Python.framework/Versions/3.9/lib/python3.9/site-packages/sklearn/utils/validation.py\u001b[0m in \u001b[0;36m_assert_all_finite\u001b[0;34m(X, allow_nan, msg_dtype)\u001b[0m\n\u001b[1;32m    101\u001b[0m                 not allow_nan and not np.isfinite(X).all()):\n\u001b[1;32m    102\u001b[0m             \u001b[0mtype_err\u001b[0m \u001b[0;34m=\u001b[0m \u001b[0;34m'infinity'\u001b[0m \u001b[0;32mif\u001b[0m \u001b[0mallow_nan\u001b[0m \u001b[0;32melse\u001b[0m \u001b[0;34m'NaN, infinity'\u001b[0m\u001b[0;34m\u001b[0m\u001b[0;34m\u001b[0m\u001b[0m\n\u001b[0;32m--> 103\u001b[0;31m             raise ValueError(\n\u001b[0m\u001b[1;32m    104\u001b[0m                     \u001b[0mmsg_err\u001b[0m\u001b[0;34m.\u001b[0m\u001b[0mformat\u001b[0m\u001b[0;34m\u001b[0m\u001b[0;34m\u001b[0m\u001b[0m\n\u001b[1;32m    105\u001b[0m                     (type_err,\n",
      "\u001b[0;31mValueError\u001b[0m: Input contains NaN, infinity or a value too large for dtype('float32')."
     ]
    }
   ],
   "source": [
    "reduced_matrix =TSNE(n_components=2).fit_transform(matrix)"
   ]
  }
 ],
 "metadata": {
  "interpreter": {
   "hash": "aee8b7b246df8f9039afb4144a1f6fd8d2ca17a180786b69acc140d282b71a49"
  },
  "kernelspec": {
   "display_name": "Python 3.9.5 64-bit",
   "name": "python3"
  },
  "language_info": {
   "codemirror_mode": {
    "name": "ipython",
    "version": 3
   },
   "file_extension": ".py",
   "mimetype": "text/x-python",
   "name": "python",
   "nbconvert_exporter": "python",
   "pygments_lexer": "ipython3",
   "version": "3.9.5"
  },
  "orig_nbformat": 4
 },
 "nbformat": 4,
 "nbformat_minor": 2
}
