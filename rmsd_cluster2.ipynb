{
 "cells": [
  {
   "cell_type": "markdown",
   "source": [
    "# Clustering Conformations using Python Libraries\n"
   ],
   "metadata": {}
  },
  {
   "cell_type": "markdown",
   "source": [
    "## Import dependencies"
   ],
   "metadata": {}
  },
  {
   "cell_type": "code",
   "execution_count": 1,
   "source": [
    "import numpy as np\n",
    "import pickle\n",
    "from scipy.cluster.hierarchy import dendrogram, linkage, leaves_list, to_tree, centroid, cut_tree,fcluster\n",
    "from matplotlib import pyplot as plt\n",
    "from helper import info, threshold_remove\n",
    "import pandas as pd\n",
    "pd.set_option('display.max_rows', None)\n",
    "pd.set_option('display.max_columns', None)\n",
    "pd.set_option('display.width', None)\n",
    "pd.set_option('display.max_colwidth', None)\n",
    "from sklearn.cluster import AgglomerativeClustering"
   ],
   "outputs": [],
   "metadata": {}
  },
  {
   "cell_type": "markdown",
   "source": [
    "### Isolate lists with missing residues beyond a threshold"
   ],
   "metadata": {}
  },
  {
   "cell_type": "code",
   "execution_count": 2,
   "source": [
    "threshold_remove(10)\n",
    "threshold_remove(7,[(32,43),(149,158)])"
   ],
   "outputs": [
    {
     "output_type": "stream",
     "name": "stdout",
     "text": [
      "complete removed_indices: [0, 3, 4, 5, 6, 12, 16, 19, 20, 21, 22, 26, 27, 28, 29, 30, 31, 43, 45, 54, 55, 56, 57, 58, 59, 60, 61, 63, 66, 67, 68, 70, 81, 96, 99, 102, 103, 106, 107, 110, 112, 115, 116, 119, 120, 121, 126, 127, 152, 156, 158, 160, 161, 167, 169, 170, 171, 173, 174, 176, 177, 178, 179, 180, 183, 185, 196, 201, 202, 203, 204, 207, 208, 209, 210, 212, 213, 214, 215, 216, 217, 218, 219, 231, 233, 243, 245, 247, 251, 253, 260, 261, 264, 265, 267, 268, 269, 272, 273, 274, 296, 297, 321, 322, 327, 334, 335, 336, 338, 339, 347, 351, 353, 354, 357, 358, 359, 360, 361, 367, 370, 371, 379, 381, 384, 385, 387, 391, 393, 398, 399, 400, 401, 402, 403, 404, 408, 414, 422, 424, 430, 431, 432, 435, 436, 437, 438, 439, 441, 442, 451, 452, 453, 454, 455, 457, 458, 460, 461, 464, 465, 466, 467, 468, 469, 472, 473, 474, 477, 480, 481, 482, 484, 485, 488, 489, 495, 498, 499, 500, 501, 502, 503, 506, 507, 508, 509, 510, 515, 517, 519, 520, 524, 525, 526, 529, 530]\n",
      "segment removed_indices: [0, 1, 2, 4, 5, 6, 7, 8, 16, 19, 20, 21, 22, 25, 26, 27, 28, 29, 30, 31, 55, 56, 57, 58, 59, 60, 61, 66, 67, 68, 81, 90, 91, 92, 96, 99, 102, 103, 106, 107, 108, 110, 112, 115, 116, 119, 120, 121, 126, 127, 138, 143, 155, 156, 158, 170, 172, 173, 174, 175, 176, 177, 178, 179, 180, 181, 182, 183, 184, 185, 196, 201, 202, 203, 204, 205, 206, 207, 208, 209, 210, 211, 212, 213, 214, 215, 216, 217, 218, 219, 260, 261, 264, 265, 266, 267, 268, 269, 270, 273, 296, 297, 321, 322, 334, 335, 336, 338, 339, 347, 351, 353, 354, 357, 358, 360, 361, 371, 384, 385, 398, 399, 400, 401, 402, 403, 404, 430, 431, 432, 433, 434, 435, 437, 438, 439, 441, 442, 451, 452, 453, 455, 457, 458, 460, 461, 464, 465, 466, 472, 473, 474, 477, 480, 481, 482, 484, 498, 499, 501, 502, 503, 506, 507, 508, 509, 512, 513, 514, 515, 516, 519, 520, 521, 526, 528]\n"
     ]
    }
   ],
   "metadata": {}
  },
  {
   "cell_type": "markdown",
   "source": [
    "## Load presorted classification based on annotations list"
   ],
   "metadata": {}
  },
  {
   "cell_type": "code",
   "execution_count": null,
   "source": [
    "#@ open files\n",
    "with open(\"chains_list.var\",\"rb\") as chains_list_var:\n",
    "   chains_list = pickle.load(chains_list_var)\n",
    "   chains_list_var.close()\n",
    "#print(f\"chains_list: {chains_list}\")\n",
    "with open(\"structures/opened_active.var\", \"rb\") as open_active_var:\n",
    "    open_active_list = pickle.load(open_active_var)\n",
    "    open_active_var.close()\n",
    "with open(\"structures/closed_inactive.var\", \"rb\") as closed_inactive_var:\n",
    "    closed_inactive_list = pickle.load(closed_inactive_var)\n",
    "    closed_inactive_var.close()\n",
    "with open(\"structures/opened_inactive.var\", \"rb\") as open_inactive_var:\n",
    "    open_inactive_list = pickle.load(open_inactive_var)\n",
    "    open_inactive_var.close()\n",
    "\n",
    "print(f\"open_active: {len(open_active_list)}\")\n",
    "print(f\"closed_inactive: {len(closed_inactive_list)}\")\n",
    "print(f\"open_inactive: {len(open_inactive_list)}\")\n",
    "annotated_dict_list_codes= {\"open_active\": open_active_list, \"closed_inactive\": closed_inactive_list, \"open_inactive\": open_inactive_list} #dictionary of codes list\n",
    "annotated_dict_list ={\"open_active\": list(), \"closed_inactive\": list(), \"open_inactive\": list()} #dictionary of list of indices\n",
    "for i,conformation in enumerate(chains_list):\n",
    "    for j,l in enumerate(annotated_dict_list_codes):\n",
    "        if conformation in annotated_dict_list_codes[l]:\n",
    "            #print(f\"l: {l}\")\n",
    "            annotated_dict_list[l].append(i)\n",
    "#print(f\"annotated_dict_list: {annotated_dict_list_codes}\")\n"
   ],
   "outputs": [],
   "metadata": {}
  },
  {
   "cell_type": "markdown",
   "source": [
    "### Open calculated rms matrix and chains list\n",
    "#### matrix.var\n",
    "Calculated rms matrix from aligning all of the choice conformation chosen by best_align.py and calculated by pml_script_all.py.\n",
    "#### chains_list.var\n",
    "Generated by reading through the dictionary of annotated conformations and making a list of chains of the conformation. This will give the labeling order of the rms matrix obtained since pml_script_all.py iterated through this list"
   ],
   "metadata": {}
  },
  {
   "cell_type": "code",
   "execution_count": null,
   "source": [
    "with open(\"matrix.var\", \"rb\") as matrix_var:\n",
    "   matrix = (pickle.load(matrix_var))\n",
    "   matrix_var.close()\n",
    "#print(f\"matrix: {matrix}\")\n",
    "with open(\"matrix_AB.var\", \"rb\") as matrix_AB_var:\n",
    "   matrix_AB = (pickle.load(matrix_AB_var))\n",
    "   matrix_AB_var.close()\n",
    "with open(\"matrix_seg.var\", \"rb\") as matrix_seg_var:\n",
    "   matrix_seg = pickle.load(matrix_seg_var)\n",
    "   matrix_seg_var.close()"
   ],
   "outputs": [],
   "metadata": {}
  },
  {
   "cell_type": "markdown",
   "source": [
    "### Ward's Algorithm\n",
    "A linkage with minimum variance method. We define \n",
    "$$\n",
    "T = |v| + |s| + |t|\n",
    "$$\n",
    "As the cardinality the forest _u_ and _v_ combined\n",
    "Given the distance function is computed recursively with the equation:\n",
    "$$\n",
    "d[i][j] = d(i,j) = \\sqrt{\\frac{|v| + |s|}{T}d(v,s)^2 + \\frac{|v| + |t|}{T}d(v,t)^2 - \\frac{|v|}{T}d(s,t)^2}\n",
    "$$\n",
    "The merging cost, of which ward's algorithm tries to minimize the growth is defined as follows:\n",
    "$$\n",
    "Cost(u,v) = \\frac{|u||v|}{|u| +|v|}||c_u - c_v ||^2\n",
    "$$\n",
    "$c_i$ is the vector of the centroid. And the derivation comes from the distance sum union of the two sets together minus the distance sum of the individual sets. \n",
    "<br>\n",
    "It considers the case of merging and then calculates the variance from the centroid of the final merged cluster as the distance"
   ],
   "metadata": {}
  },
  {
   "cell_type": "markdown",
   "source": [
    "## Info function:\n",
    " ```info(matrix,title,chains_list,annotated_dict_list,complete,kernel=\"linear\",hierarchy_method = None, no_clusters=3, dist_metric = \"euclidean\", tsne= False, auto_cut_tree = True)```\n",
    "### Usage:\n",
    "### __Required Parameters__:\n",
    "#### matrix:\n",
    "    A matrix of values where each row represents a conformation and the features along the columns\n",
    "    In this case we have RMSD of all the CA, RMSD of all CA + CB, RSMD of all CA of specific segments\n",
    "#### title: \n",
    "    Title of the matrix for plotting purposes\n",
    "#### chains_list:\n",
    "    List chains/ conformations in the same order as the matrix\n",
    "#### annotated_dict_list:\n",
    "    Dictionary where each key is group classified, found by pdb file annotation and value is a list of indices of the conformations on the matrix\n",
    "#### complete:\n",
    "    For the purposes of identifying the coincidence of misclassification and missing residues beyond a certain threshold. Complete is a boolean, if True it will compare the coincidences to the full conformations which had missing residues more than a threshold (default 10). Else false it will compare to the conformation on specific segments which had missing more than a threshold (default 7).\n",
    "### __Optional Parameters__:\n",
    "#### kernel:\n",
    "    For the use of PCA, Kernel method of PCA (if in use)\n",
    "#### Hierarchy_method:\n",
    "    Method of hierachical clustering, default is None. set to None then the function will use the graph for Kmeans clustering by default. Uses sklearn and scipy hierarchy clustering. \n",
    "    Choices: {‘linear’, ‘poly’, ‘rbf’, ‘sigmoid’, ‘cosine’, ‘precomputed’}\n",
    "#### no_clusters:\n",
    "    Number of clusters to be found. However, the statistics will give an error if the amount of clusters and the length of the ```annotated_dict_list``` do not match\n",
    "#### dist_metric:\n",
    "    Distance metric for hierarchical clustering, by default euclidean\n",
    "#### tsne:\n",
    "    Data is visualized in 2 different ways T-SNE and PCA, By default tsne = False means PCA is used. Data is projected into 2 dimensions\n",
    "#### auto_cut_tree:\n",
    "    By default the tree will be automatically cut by the number of clusters, however, if set to False, manual cutting will ask the user to get left or right tree in a sequence from top down.\n",
    "    The first choice will prompt the user for the leftmost tree and then the second choice for the middle tree.\n",
    "    Use the calculated dendrogram to decide on the manual tree partitioning.\n",
    "    Use: \"left\", \"l\", \"right\", or \"r\"\n",
    "    The statistics will give an erroneous result if the middle tree, the second tree is chosen not to the immediate right of the first tree.\n",
    "\n"
   ],
   "metadata": {}
  },
  {
   "cell_type": "markdown",
   "source": [
    "## Experiment 1:\n",
    "Complete CA, T-SNE projection with Ward's algorithm to obtain 3 clusters."
   ],
   "metadata": {}
  },
  {
   "cell_type": "code",
   "execution_count": null,
   "source": [
    "info(matrix,\"Complete CA\", chains_list,annotated_dict_list,complete = True, kernel=\"linear\",hierarchy_method = \"ward\", no_clusters=3,tsne=True)"
   ],
   "outputs": [],
   "metadata": {}
  },
  {
   "cell_type": "markdown",
   "source": [
    "## Experiment 2:\n",
    "Complete CA, PCA projection with Ward's algorithm to obtain 3 clusters.\n",
    "### Analysis:\n",
    "The data shows that open inactive is often misrepresented as closed in active 96 False negative and only 16 True positive, also T-sne gives a better cluster view of the data than PCA, which shades clusters as less distinct."
   ],
   "metadata": {}
  },
  {
   "cell_type": "code",
   "execution_count": null,
   "source": [
    "info(matrix,\"Complete CA\", chains_list,annotated_dict_list,complete = True,kernel=\"linear\",hierarchy_method = \"ward\", no_clusters=3,tsne=False)"
   ],
   "outputs": [],
   "metadata": {}
  },
  {
   "cell_type": "markdown",
   "source": [
    "### Experiment 3\n",
    "Complete CA and CB RSMD Matrix, T-SNE projection with Ward's algorithm to obtain 3 clusters.\n",
    "### Analysis:"
   ],
   "metadata": {}
  },
  {
   "cell_type": "code",
   "execution_count": null,
   "source": [
    "info(matrix_AB,\"Complete CA and CB\", chains_list,annotated_dict_list,complete = True,kernel=\"linear\",hierarchy_method = \"ward\", no_clusters=3,tsne=True)"
   ],
   "outputs": [],
   "metadata": {}
  },
  {
   "cell_type": "markdown",
   "source": [
    "### Experiment 4\n",
    "Complete CA and CB RSMD Matrix, PCA projection with Ward's algorithm to obtain 3 clusters.\n",
    "### Analysis:"
   ],
   "metadata": {}
  },
  {
   "cell_type": "code",
   "execution_count": null,
   "source": [
    "info(matrix_AB,\"Complete CA and CB\", chains_list,annotated_dict_list,complete = True,kernel=\"linear\",hierarchy_method = \"ward\", no_clusters=3,tsne=False)"
   ],
   "outputs": [],
   "metadata": {}
  },
  {
   "cell_type": "markdown",
   "source": [
    "### Experiment 5\n",
    "Selected Segments 33 to 44, 150 to 159, found from previous pymol modelling analysis. RSMD Matrix, T-SNE projection with Ward's algorithm to obtain 3 clusters.\n",
    "\n",
    "### Analysis:"
   ],
   "metadata": {}
  },
  {
   "cell_type": "code",
   "execution_count": null,
   "source": [
    "info(matrix_seg,\"Complete CA and CB\", chains_list,annotated_dict_list,complete = True,kernel=\"linear\",hierarchy_method = \"ward\", no_clusters=3,tsne=True)"
   ],
   "outputs": [],
   "metadata": {}
  },
  {
   "cell_type": "markdown",
   "source": [
    "### Experiment 6\n",
    "Selected Segments 33 to 44, 150 to 159, found from previous pymol modelling analysis. T-SNE projection with Ward's algorithm to obtain 3 clusters, Manual Tree parititioning, Cluster1 = Tree.left.left, Cluster2 = Tree.left.right, Cluster3 = Tree.right\n",
    "### Analysis:\n",
    "This gives quite a high F1 score, however the partitioning is not as intuitive since Cluster 1 and Cluster 2 are highly similar and have low cophenetic distances compared to the Cluster 3. Maybe a change of distance metric might give different clustering results.\n",
    "\n",
    "Actually, running a script to check how many chains are missing more than 7 residues in on of the segments (keeping in mind that the segments are only 12 and 10 residues long). The script outputs 176 samples. This is more than the amount misclassified at 79 conformations.\n",
    "\n",
    "Taking from the misclassified examples 2BHH_A on the top right of the graph of the misclassified conformation has a gap from residue 36 to 43 and 148 to 162 which given only two residues of course would have trouble identifying the clustering.\n",
    "1AQ1_A missing from 36 to 44 and 148 to 160.\n",
    "\n",
    "On the other side of the misclassified cluster, 2AOC_X has only missing 37-40, 4 key residues missing"
   ],
   "metadata": {}
  },
  {
   "cell_type": "code",
   "execution_count": null,
   "source": [
    "info(matrix_seg,\"Complete CA and CB\", chains_list,annotated_dict_list,complete = True,hierarchy_method = \"ward\", no_clusters=3,tsne=True,auto_cut_tree=False)"
   ],
   "outputs": [],
   "metadata": {}
  },
  {
   "cell_type": "code",
   "execution_count": null,
   "source": [],
   "outputs": [],
   "metadata": {}
  }
 ],
 "metadata": {
  "orig_nbformat": 4,
  "language_info": {
   "name": "python",
   "version": "3.9.5",
   "mimetype": "text/x-python",
   "codemirror_mode": {
    "name": "ipython",
    "version": 3
   },
   "pygments_lexer": "ipython3",
   "nbconvert_exporter": "python",
   "file_extension": ".py"
  },
  "kernelspec": {
   "name": "python3",
   "display_name": "Python 3.9.5 64-bit"
  },
  "interpreter": {
   "hash": "aee8b7b246df8f9039afb4144a1f6fd8d2ca17a180786b69acc140d282b71a49"
  }
 },
 "nbformat": 4,
 "nbformat_minor": 2
}